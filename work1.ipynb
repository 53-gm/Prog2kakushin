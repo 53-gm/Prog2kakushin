{
  "nbformat": 4,
  "nbformat_minor": 0,
  "metadata": {
    "colab": {
      "provenance": [],
      "authorship_tag": "ABX9TyNdRDLAc8gIcCUog+DydNfw",
      "include_colab_link": true
    },
    "kernelspec": {
      "name": "python3",
      "display_name": "Python 3"
    },
    "language_info": {
      "name": "python"
    }
  },
  "cells": [
    {
      "cell_type": "markdown",
      "metadata": {
        "id": "view-in-github",
        "colab_type": "text"
      },
      "source": [
        "<a href=\"https://colab.research.google.com/github/53-gm/Prog2kakushin/blob/main/work1.ipynb\" target=\"_parent\"><img src=\"https://colab.research.google.com/assets/colab-badge.svg\" alt=\"Open In Colab\"/></a>"
      ]
    },
    {
      "cell_type": "markdown",
      "source": [
        "簡易的なマインスイーパ (使用ライブラリ:pandas, numpy, opencv)\n",
        "\n",
        "どういうゲームなのか:\n",
        "\n",
        "    私が昔はまっていた\"マインスイーパ\"というゲームを思い出しながら作ったもの。\n",
        "\n",
        "    10*10のマスのどこかに爆弾が埋められているという設定。\n",
        "    その爆弾を避けながらマスを塗りつぶしていく。\n",
        "    爆弾の場所を塗りつぶすとゲームオーバー。\n",
        "    爆弾を避け全て塗りつぶすとゲームクリア。\n",
        "\n",
        "    それだけではただの運ゲーなので、爆弾のない場所を塗りつぶしした時、周りにある爆弾の個数を表示する。\n",
        "\n",
        "    これでもほとんど運ゲーだが、私が覚えてるマインスイーパの仕様がこの程度なので後は省略\n",
        "\n",
        "    マインスイーパ\n",
        "    https://ja.wikipedia.org/wiki/%E3%83%9E%E3%82%A4%E3%83%B3%E3%82%B9%E3%82%A4%E3%83%BC%E3%83%91\n",
        "\n",
        "マインスイーパを作ろうと思った理由:\n",
        "\n",
        "    ・csvデータを見つけてくるのが面倒なため、csvを読み込まずに実装可能な作品にしたかったから。\n",
        "    ・常に更新するのではなく、イベントが起こってから動くので比較的簡単に実装可能だから\n",
        "\n",
        "\n",
        "・簡易的なマインスイーパの遊び方\n",
        "\n",
        "    1.何らかのキーを入力し、ゲームをスタートする。(これが無いと何故か画像表示後にキー入力する場所が無くなる可能性がある。)\n",
        "\n",
        "    2.マインスイーパのゲーム画面表示後選択したい位置を入力する。\n",
        "\n",
        "    3.その位置に爆弾が無ければ青色に表示され周りの爆弾の個数が表示される。一方、その位置に爆弾があった場合赤色に表示されゲームオーバーとなる。\n",
        "\n",
        "    4.爆弾以外のマスが無くなったらゲームクリア。そうでなければ2へ戻って位置を選択\n",
        "\n",
        "    ※今回は実際に遊んでもらう用ではないので爆弾の位置をリスト型で最初に表示している。\n"
      ],
      "metadata": {
        "id": "NXg5sCRhxToN"
      }
    },
    {
      "cell_type": "markdown",
      "source": [
        "Graphics class\n",
        "\n",
        "OpenCVを使って画面に画像を表示するクラス"
      ],
      "metadata": {
        "id": "2loCG0CU_6xH"
      }
    },
    {
      "cell_type": "code",
      "source": [
        "import numpy as np\n",
        "import cv2\n",
        "import sys\n",
        "from google.colab.patches import cv2_imshow\n",
        "\n",
        "class Graphics:\n",
        "    def __init__(self, windowWidth, windowHeight, windowName, windowColor):\n",
        "        self.width, self.height = windowWidth, windowHeight\n",
        "        self.winname = windowName\n",
        "        self.window = np.zeros( (self.height, self.width, 3), np.uint8 )\n",
        "        self.windowColor = windowColor\n",
        "        self.window[:] = (windowColor[0], windowColor[1], windowColor[2])\n",
        "    def reset(self): #画面のリセット\n",
        "        self.window = np.zeros( (self.height, self.width, 3), np.uint8 )\n",
        "        self.window[:] = (self.windowColor[0], self.windowColor[1], self.windowColor[2])\n",
        "        cv2_imshow(self.window)\n",
        "    def drawRect(self, p1, p2, color): #四角形の表示 (左上座標, 右下座標, 色)\n",
        "        cv2.rectangle(self.window, (int(p1[0]), int(p1[1])), (int(p2[0]), int(p2[1])), (color[0],color[1],color[2]), thickness=-1)\n",
        "    def drawText(self, text: str, p, color, scale :float): #文字の表示 (表示したい文字, 左上座標, 色, 大きさ(倍率)) \n",
        "        cv2.putText(self.window, text, (int(p[0]), int(p[1])), fontFace=cv2.FONT_HERSHEY_SIMPLEX, fontScale=scale, color=(color[0], color[1], color[2]), thickness=2)\n",
        "    def show(self): #画面に表示\n",
        "        cv2_imshow(self.window)\n",
        "\n",
        "\n",
        "       \n"
      ],
      "metadata": {
        "id": "gqj6ULfj1wEB"
      },
      "execution_count": 1,
      "outputs": []
    },
    {
      "cell_type": "markdown",
      "source": [
        "Field class\n",
        "\n",
        "マインスイーパ本体"
      ],
      "metadata": {
        "id": "okxFql59Mu71"
      }
    },
    {
      "cell_type": "code",
      "source": [
        "import pandas as pd\n",
        "\n",
        "def calc2dArray(p: int, sizeX: int, sizeY: int): #一次元配列のindexを二次元配列のindexに直す関数 \n",
        "  x = p % sizeX\n",
        "  y = p // sizeY\n",
        "  return x, y\n",
        "\n",
        "class Field:\n",
        "    def __init__(self, graphics, fieldSize, chipSize, bomb):\n",
        "        self.sizeX = fieldSize[0]\n",
        "        self.sizeY = fieldSize[1]\n",
        "        self.chipSize = chipSize\n",
        "        self.g = graphics\n",
        "        self.field = pd.DataFrame() #データフレーム (point(座標), status(どのような状態か)を持つ予定)\n",
        "\n",
        "        # ※ statusについて\n",
        "        #       0 選択されてない\n",
        "        #       1 選択された\n",
        "        #       2 選択されて爆弾があった\n",
        "\n",
        "        self.bomb = bomb\n",
        "\n",
        "        for i in range(self.sizeX * self.sizeY):  \n",
        "          self.field = self.field.append({'point':i, 'status':0}, ignore_index=True) #データを入れてく\n",
        "    \n",
        "    def select(self, k: int): #選択させるやつ\n",
        "      if k < 1:\n",
        "        return False\n",
        "      self.field['status'][k - 1] = 1\n",
        "      return True\n",
        "    \n",
        "    def searchBomb(self, k): #周りに爆弾があるかどうかみるやつ\n",
        "      sum = 0\n",
        "      for i in range(len(bomb)):\n",
        "\n",
        "        if k > 0:\n",
        "          if self.field['point'][k - 1] == self.bomb[i] - 1:\n",
        "            sum += 1\n",
        "        if k < self.sizeX * self.sizeY: \n",
        "          if self.field['point'][k + 1] == self.bomb[i] - 1:\n",
        "            sum += 1\n",
        "\n",
        "        if k + self.sizeY <= self.sizeY * self.sizeX - 1:\n",
        "          if self.field['point'][k + self.sizeY] == self.bomb[i] - 1:\n",
        "            sum += 1\n",
        "        if k - self.sizeY >= 0:\n",
        "          if self.field['point'][k - self.sizeY] == self.bomb[i] - 1:\n",
        "            sum += 1\n",
        "      \n",
        "        \n",
        "        if k - self.sizeY + 1 >= 0:\n",
        "          if self.field['point'][k - self.sizeY + 1] == self.bomb[i] - 1:\n",
        "            sum += 1\n",
        "        if k - self.sizeY -1 >= 0:\n",
        "          if self.field['point'][k - self.sizeY - 1] == self.bomb[i] - 1:\n",
        "            sum += 1\n",
        "        \n",
        "        if k + self.sizeY + 1 <= self.sizeY * self.sizeX - 1:\n",
        "          if self.field['point'][k + self.sizeY + 1] == self.bomb[i] - 1:\n",
        "            sum += 1\n",
        "        if k + self.sizeY - 1 <= self.sizeY * self.sizeX - 1:\n",
        "          if self.field['point'][k + self.sizeY - 1] == self.bomb[i] - 1:\n",
        "            sum += 1\n",
        "\n",
        "      return sum\n",
        "      \n",
        "    def update(self): #更新作業\n",
        "      for i in range(len(self.bomb)):  \n",
        "        if self.field['status'][self.bomb[i] - 1] == 1: #爆弾の場所が選択されたら\n",
        "          self.field['status'][self.bomb[i] - 1] = 2\n",
        "          return -1 \n",
        "\n",
        "      sum = self.field['status'].sum() #選択されている合計\n",
        "\n",
        "      if sum == (self.sizeX * self.sizeY - len(self.bomb)): \n",
        "         for i in range(len(self.bomb)):  \n",
        "            self.field['status'][self.bomb[i] - 1] = 2\n",
        "         return 1\n",
        "\n",
        "      return 0\n",
        "\n",
        "    def draw(self):\n",
        "      for i in range(self.sizeX * self.sizeY):\n",
        "        x, y = calc2dArray(self.field['point'][i], self.sizeX, self.sizeY)\n",
        "        self.g.drawRect((x * self.chipSize, y * self.chipSize), (x * self.chipSize + self.chipSize, y * self.chipSize + self.chipSize), (255,255,255))  \n",
        "\n",
        "        if self.field['status'][i] == 1:\n",
        "          self.g.drawRect((x * self.chipSize, y * self.chipSize), (x * self.chipSize + self.chipSize, y * self.chipSize + self.chipSize), (255,0,0))\n",
        "\n",
        "        if self.field['status'][i] == 2:\n",
        "          self.g.drawRect((x * self.chipSize, y * self.chipSize), (x * self.chipSize + self.chipSize, y * self.chipSize + self.chipSize), (0,0,255))\n",
        "\n",
        "        if self.field['status'][i] != 1:\n",
        "          self.g.drawText(str(i + 1), (x * self.chipSize, y * self.chipSize + (self.chipSize / 2)), (0, 0, 0), 1.0)\n",
        "        else:\n",
        "          self.g.drawText(str(self.searchBomb(i)), (x * self.chipSize, y * self.chipSize + (self.chipSize / 2)), (0, 0, 0), 1.0)\n",
        "\n",
        "        "
      ],
      "metadata": {
        "id": "VCgx78SmMxtD"
      },
      "execution_count": 32,
      "outputs": []
    },
    {
      "cell_type": "markdown",
      "source": [
        "Main"
      ],
      "metadata": {
        "id": "rQ3IaQfhAEha"
      }
    },
    {
      "cell_type": "code",
      "source": [
        "import numpy as np\n",
        "import cv2 \n",
        "import sys \n",
        "import time\n",
        "import random\n",
        "\n",
        "SIZE_X = 10\n",
        "SIZE_Y = 10\n",
        "CHIP_SIZE = 64\n",
        "WINDOW_WIDTH = CHIP_SIZE * SIZE_X\n",
        "WINDOW_HEIGHT = CHIP_SIZE * SIZE_Y\n",
        "BOMB = 20\n",
        "\n",
        "def randNodup(a, b, k): #乱数 被りなし a = 最低 b = 最高 k = 個数\n",
        "    if abs(a) + b < k:\n",
        "        raise ValueError\n",
        "    r = set()\n",
        "    while len(r) < k:\n",
        "        r.add(random.randint(a, b))\n",
        "    return list(r) \n",
        "\n",
        "\n",
        "if __name__ == \"__main__\":\n",
        "\n",
        "   bomb = randNodup(1, SIZE_X * SIZE_Y, BOMB)\n",
        "   print(bomb)\n",
        "\n",
        "   graphics = Graphics(WINDOW_WIDTH, WINDOW_HEIGHT, 'Test', (255, 0, 255))\n",
        "   field = Field(graphics, (SIZE_X, SIZE_Y), CHIP_SIZE, bomb)\n",
        "\n",
        "   \n",
        "\n",
        "   k = int(input('何かキーを入力してください'))\n",
        "\n",
        "   while True: \n",
        "\n",
        "      u = field.update() \n",
        "\n",
        "      field.draw() \n",
        "\n",
        "      graphics.show()\n",
        "\n",
        "      if (u == -1):\n",
        "        print('ゲームオーバー！')\n",
        "        break\n",
        "      elif (u == 1):     \n",
        "        print('ゲームクリア！')\n",
        "        break\n",
        "\n",
        "      k = int(input('消したい番号を入力してください'))\n",
        "\n",
        "      if k == -1: \n",
        "        print(\"ゲームを中断します\")\n",
        "        break\n",
        "\n",
        "      if k <= 0 or k > SIZE_X * SIZE_Y:\n",
        "        print(\"不正な値です\")\n",
        "        continue\n",
        "\n",
        "      field.select(k)\n",
        "\n",
        "   cv2.destroyAllWindows()\n"
      ],
      "metadata": {
        "id": "CNkXx9YaAH8g",
        "outputId": "5125455f-12cd-472f-fa4f-9bc826566f31",
        "colab": {
          "base_uri": "https://localhost:8080/",
          "height": 1000
        }
      },
      "execution_count": 34,
      "outputs": [
        {
          "name": "stdout",
          "output_type": "stream",
          "text": [
            "[6, 8, 14, 19, 23, 25, 27, 36, 40, 42, 50, 54, 63, 67, 70, 72, 73, 81, 82, 89]\n",
            "何かキーを入力してください1\n"
          ]
        },
        {
          "output_type": "display_data",
          "data": {
            "text/plain": [
              "<PIL.Image.Image image mode=RGB size=640x640 at 0x7F04B510FCA0>"
            ],
            "image/png": "[encoded data removed]"
          },
          "metadata": {}
        },
        {
          "name": "stdout",
          "output_type": "stream",
          "text": [
            "消したい番号を入力してください6\n"
          ]
        },
        {
          "output_type": "display_data",
          "data": {
            "text/plain": [
              "<PIL.Image.Image image mode=RGB size=640x640 at 0x7F04B510F400>"
            ],
            "image/png": "[encoded data removed]"
          },
          "metadata": {}
        },
        {
          "output_type": "stream",
          "name": "stdout",
          "text": [
            "ゲームオーバー！\n"
          ]
        }
      ]
    }
  ]
}