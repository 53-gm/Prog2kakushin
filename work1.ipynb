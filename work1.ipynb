{
  "nbformat": 4,
  "nbformat_minor": 0,
  "metadata": {
    "colab": {
      "provenance": [],
      "authorship_tag": "ABX9TyNdWI97OAGnb/qWuRe+Z7l+",
      "include_colab_link": true
    },
    "kernelspec": {
      "name": "python3",
      "display_name": "Python 3"
    },
    "language_info": {
      "name": "python"
    }
  },
  "cells": [
    {
      "cell_type": "markdown",
      "metadata": {
        "id": "view-in-github",
        "colab_type": "text"
      },
      "source": [
        "<a href=\"https://colab.research.google.com/github/53-gm/Prog2kakushin/blob/main/work1.ipynb\" target=\"_parent\"><img src=\"https://colab.research.google.com/assets/colab-badge.svg\" alt=\"Open In Colab\"/></a>"
      ]
    },
    {
      "cell_type": "markdown",
      "source": [
        "適当なゲーム (pandas, numpy, opencv)"
      ],
      "metadata": {
        "id": "NXg5sCRhxToN"
      }
    },
    {
      "cell_type": "markdown",
      "source": [
        "Graphics class"
      ],
      "metadata": {
        "id": "2loCG0CU_6xH"
      }
    },
    {
      "cell_type": "code",
      "source": [
        "import numpy as np\n",
        "import cv2\n",
        "import sys\n",
        "from google.colab.patches import cv2_imshow\n",
        "\n",
        "\n",
        "class SpriteData:\n",
        "    x = 0\n",
        "    y = 0 \n",
        "    width = 0\n",
        "    height = 0\n",
        "    color = (0, 0, 0)\n",
        "\n",
        "class Graphics:\n",
        "    def __init__(self, windowWidth, windowHeight, windowName, windowColor):\n",
        "        self.width, self.height = windowWidth, windowHeight\n",
        "        self.winname = windowName\n",
        "        self.window = np.zeros( (self.height, self.width, 3), np.uint8 )\n",
        "        self.windowColor = windowColor\n",
        "        self.window[:] = (windowColor[0], windowColor[1], windowColor[2])\n",
        "    def reset(self):\n",
        "        self.window = np.zeros( (self.height, self.width, 3), np.uint8 )\n",
        "        self.window[:] = (self.windowColor[0], self.windowColor[1], self.windowColor[2])\n",
        "        cv2_imshow(self.window)\n",
        "    def drawRect(self, p1, p2, color):\n",
        "        cv2.rectangle(self.window, (int(p1[0]), int(p1[1])), (int(p2[0]), int(p2[1])), (color[0],color[1],color[2]), thickness=-1)\n",
        "    def drawText(self, text: str, p, color, scale :float):\n",
        "        cv2.putText(self.window, text, (int(p[0]), int(p[1])), fontFace=cv2.FONT_HERSHEY_SIMPLEX, fontScale=scale, color=(color[0], color[1], color[2]), thickness=2)\n",
        "    def show(self):\n",
        "        cv2_imshow(self.window)\n",
        "\n",
        "\n",
        "       \n"
      ],
      "metadata": {
        "id": "gqj6ULfj1wEB"
      },
      "execution_count": 58,
      "outputs": []
    },
    {
      "cell_type": "markdown",
      "source": [
        "Map class"
      ],
      "metadata": {
        "id": "okxFql59Mu71"
      }
    },
    {
      "cell_type": "code",
      "source": [
        "import pandas as pd\n",
        "\n",
        "def calc2dArray(p: int, sizeX: int, sizeY: int):\n",
        "  x = p % sizeX\n",
        "  y = p // sizeY\n",
        "  return x, y\n",
        "\n",
        "class Field:\n",
        "    def __init__(self, graphics, fieldSize, chipSize):\n",
        "        self.sizeX = fieldSize[0]\n",
        "        self.sizeY = fieldSize[1]\n",
        "        self.chipSize = chipSize\n",
        "        self.g = graphics\n",
        "        self.field = pd.DataFrame()\n",
        "\n",
        "        for i in range(self.sizeX * self.sizeY):\n",
        "          self.field = self.field.append({'point':i, 'status':0}, ignore_index=True)\n",
        "\n",
        "    def update(self):  \n",
        "      pass\n",
        "    def draw(self):\n",
        "      for i in range(self.sizeX * self.sizeY):\n",
        "        x, y = calc2dArray(self.field['point'][i], self.sizeX, self.sizeY)\n",
        "        self.g.drawRect((x * self.chipSize, y * self.chipSize), (x * self.chipSize + self.chipSize, y * self.chipSize + self.chipSize), (255,255,255))  \n",
        "\n",
        "        self.g.drawText(str(i), (x * self.chipSize + (self.chipSize / 2), y * self.chipSize + (self.chipSize / 2)), (0, 0, 0), 0.45)\n",
        "        "
      ],
      "metadata": {
        "id": "VCgx78SmMxtD"
      },
      "execution_count": 67,
      "outputs": []
    },
    {
      "cell_type": "markdown",
      "source": [
        "Main"
      ],
      "metadata": {
        "id": "rQ3IaQfhAEha"
      }
    },
    {
      "cell_type": "code",
      "source": [
        "import numpy as np\n",
        "import cv2 \n",
        "import sys \n",
        "import time\n",
        "\n",
        "\n",
        "if __name__ == \"__main__\":\n",
        "   graphics = Graphics(480, 270, 'Test', (255, 0, 255))\n",
        "   field = Field(graphics, (10, 10), 32)\n",
        "\n",
        "   while True:\n",
        "\n",
        "      k = int(input('key'))  \n",
        "\n",
        "      field.draw() \n",
        "\n",
        "      graphics.show()\n",
        "\n",
        "   cv2.destroyAllWindows()\n"
      ],
      "metadata": {
        "id": "CNkXx9YaAH8g",
        "outputId": "6c36da0c-0056-45c8-dff1-a6034b6b15e4",
        "colab": {
          "base_uri": "https://localhost:8080/",
          "height": 690
        }
      },
      "execution_count": 70,
      "outputs": [
        {
          "name": "stdout",
          "output_type": "stream",
          "text": [
            "key1\n"
          ]
        },
        {
          "output_type": "display_data",
          "data": {
            "text/plain": [
              "<PIL.Image.Image image mode=RGB size=480x270 at 0x7FA4A6174790>"
            ],
            "image/png": "[encoded data removed]"
          },
          "metadata": {}
        },
        {
          "output_type": "error",
          "ename": "KeyboardInterrupt",
          "evalue": "ignored",
          "traceback": [
            "\u001b[0;31m---------------------------------------------------------------------------\u001b[0m",
            "\u001b[0;31mKeyboardInterrupt\u001b[0m                         Traceback (most recent call last)",
            "\u001b[0;32m<ipython-input-70-2ebcde1bca6c>\u001b[0m in \u001b[0;36m<module>\u001b[0;34m\u001b[0m\n\u001b[1;32m     11\u001b[0m    \u001b[0;32mwhile\u001b[0m \u001b[0;32mTrue\u001b[0m\u001b[0;34m:\u001b[0m\u001b[0;34m\u001b[0m\u001b[0;34m\u001b[0m\u001b[0m\n\u001b[1;32m     12\u001b[0m \u001b[0;34m\u001b[0m\u001b[0m\n\u001b[0;32m---> 13\u001b[0;31m       \u001b[0mk\u001b[0m \u001b[0;34m=\u001b[0m \u001b[0mint\u001b[0m\u001b[0;34m(\u001b[0m\u001b[0minput\u001b[0m\u001b[0;34m(\u001b[0m\u001b[0;34m'key'\u001b[0m\u001b[0;34m)\u001b[0m\u001b[0;34m)\u001b[0m\u001b[0;34m\u001b[0m\u001b[0;34m\u001b[0m\u001b[0m\n\u001b[0m\u001b[1;32m     14\u001b[0m \u001b[0;34m\u001b[0m\u001b[0m\n\u001b[1;32m     15\u001b[0m       \u001b[0mfield\u001b[0m\u001b[0;34m.\u001b[0m\u001b[0mdraw\u001b[0m\u001b[0;34m(\u001b[0m\u001b[0;34m)\u001b[0m\u001b[0;34m\u001b[0m\u001b[0;34m\u001b[0m\u001b[0m\n",
            "\u001b[0;32m/usr/local/lib/python3.8/dist-packages/ipykernel/kernelbase.py\u001b[0m in \u001b[0;36mraw_input\u001b[0;34m(self, prompt)\u001b[0m\n\u001b[1;32m    858\u001b[0m                 \u001b[0;34m\"raw_input was called, but this frontend does not support input requests.\"\u001b[0m\u001b[0;34m\u001b[0m\u001b[0;34m\u001b[0m\u001b[0m\n\u001b[1;32m    859\u001b[0m             )\n\u001b[0;32m--> 860\u001b[0;31m         return self._input_request(str(prompt),\n\u001b[0m\u001b[1;32m    861\u001b[0m             \u001b[0mself\u001b[0m\u001b[0;34m.\u001b[0m\u001b[0m_parent_ident\u001b[0m\u001b[0;34m,\u001b[0m\u001b[0;34m\u001b[0m\u001b[0;34m\u001b[0m\u001b[0m\n\u001b[1;32m    862\u001b[0m             \u001b[0mself\u001b[0m\u001b[0;34m.\u001b[0m\u001b[0m_parent_header\u001b[0m\u001b[0;34m,\u001b[0m\u001b[0;34m\u001b[0m\u001b[0;34m\u001b[0m\u001b[0m\n",
            "\u001b[0;32m/usr/local/lib/python3.8/dist-packages/ipykernel/kernelbase.py\u001b[0m in \u001b[0;36m_input_request\u001b[0;34m(self, prompt, ident, parent, password)\u001b[0m\n\u001b[1;32m    902\u001b[0m             \u001b[0;32mexcept\u001b[0m \u001b[0mKeyboardInterrupt\u001b[0m\u001b[0;34m:\u001b[0m\u001b[0;34m\u001b[0m\u001b[0;34m\u001b[0m\u001b[0m\n\u001b[1;32m    903\u001b[0m                 \u001b[0;31m# re-raise KeyboardInterrupt, to truncate traceback\u001b[0m\u001b[0;34m\u001b[0m\u001b[0;34m\u001b[0m\u001b[0;34m\u001b[0m\u001b[0m\n\u001b[0;32m--> 904\u001b[0;31m                 \u001b[0;32mraise\u001b[0m \u001b[0mKeyboardInterrupt\u001b[0m\u001b[0;34m(\u001b[0m\u001b[0;34m\"Interrupted by user\"\u001b[0m\u001b[0;34m)\u001b[0m \u001b[0;32mfrom\u001b[0m \u001b[0;32mNone\u001b[0m\u001b[0;34m\u001b[0m\u001b[0;34m\u001b[0m\u001b[0m\n\u001b[0m\u001b[1;32m    905\u001b[0m             \u001b[0;32mexcept\u001b[0m \u001b[0mException\u001b[0m \u001b[0;32mas\u001b[0m \u001b[0me\u001b[0m\u001b[0;34m:\u001b[0m\u001b[0;34m\u001b[0m\u001b[0;34m\u001b[0m\u001b[0m\n\u001b[1;32m    906\u001b[0m                 \u001b[0mself\u001b[0m\u001b[0;34m.\u001b[0m\u001b[0mlog\u001b[0m\u001b[0;34m.\u001b[0m\u001b[0mwarning\u001b[0m\u001b[0;34m(\u001b[0m\u001b[0;34m\"Invalid Message:\"\u001b[0m\u001b[0;34m,\u001b[0m \u001b[0mexc_info\u001b[0m\u001b[0;34m=\u001b[0m\u001b[0;32mTrue\u001b[0m\u001b[0;34m)\u001b[0m\u001b[0;34m\u001b[0m\u001b[0;34m\u001b[0m\u001b[0m\n",
            "\u001b[0;31mKeyboardInterrupt\u001b[0m: Interrupted by user"
          ]
        }
      ]
    },
    {
      "cell_type": "markdown",
      "source": [],
      "metadata": {
        "id": "ujAXZTTQLY4k"
      }
    },
    {
      "cell_type": "code",
      "source": [
        "import pandas as pd\n",
        "\n",
        "df = pd.DataFrame()\n",
        "\n",
        "for i in range(10):\n",
        "  df = df.append({'point':1}, ignore_index=True)\n",
        "\n",
        "df['point'][0]"
      ],
      "metadata": {
        "id": "AJIcMrX_VLFC",
        "outputId": "c363cd5d-43bc-437e-d4ef-1ab78206a081",
        "colab": {
          "base_uri": "https://localhost:8080/"
        }
      },
      "execution_count": 23,
      "outputs": [
        {
          "output_type": "execute_result",
          "data": {
            "text/plain": [
              "1.0"
            ]
          },
          "metadata": {},
          "execution_count": 23
        }
      ]
    }
  ]
}